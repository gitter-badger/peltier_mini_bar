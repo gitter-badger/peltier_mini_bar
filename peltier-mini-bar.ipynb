{
 "cells": [
  {
   "cell_type": "markdown",
   "metadata": {},
   "source": [
    "# Peltier Refrigerated Mini Bar"
   ]
  },
  {
   "cell_type": "code",
   "execution_count": 9,
   "metadata": {
    "collapsed": true
   },
   "outputs": [],
   "source": [
    "import collections\n",
    "import numpy\n",
    "import sympy\n",
    "sympy.init_printing()\n",
    "alpha, P, I, Q, T = sympy.symbols('alpha, P, I, Q, T')"
   ]
  },
  {
   "cell_type": "markdown",
   "metadata": {},
   "source": [
    "## Peltier effect\n",
    "\n",
    "The heat power transferred via Peltier effect is proportional to the current ($I$) and the Peltier coefficient ($P$)."
   ]
  },
  {
   "cell_type": "code",
   "execution_count": null,
   "metadata": {},
   "outputs": [],
   "source": [
    "heat_power = sympy.Eq(Q, P*I)\n",
    "heat_power"
   ]
  },
  {
   "cell_type": "markdown",
   "metadata": {},
   "source": [
    "The Peltier coefficient depends on the junction materials and on the contact temperature. Usually the coefficient is expressed as:"
   ]
  },
  {
   "cell_type": "code",
   "execution_count": null,
   "metadata": {},
   "outputs": [],
   "source": [
    "peltier_coefficient = sympy.Eq(P, alpha * T)\n",
    "peltier_coefficient"
   ]
  },
  {
   "cell_type": "markdown",
   "metadata": {},
   "source": [
    "Where $T$ is the junction temperature and $\\alpha$ is the Seebeck coefficient, usually provided in tables as the Seebeck effect is commonly applied to thermocouples."
   ]
  },
  {
   "cell_type": "code",
   "execution_count": 14,
   "metadata": {},
   "outputs": [],
   "source": [
    "Material = collections.namedtuple(\n",
    "    'Material', \n",
    "    ['density', 'specific_heat', 'thermal_conductivity'])\n",
    "def calculate_sensible_heat(material, mass, temperature_difference):\n",
    "    sensible_heat = mass * material.specific_heat * temperature_difference\n",
    "    return sensible_heat"
   ]
  },
  {
   "cell_type": "markdown",
   "metadata": {
    "collapsed": true
   },
   "source": [
    "## Thermal load\n",
    "\n"
   ]
  },
  {
   "cell_type": "code",
   "execution_count": 22,
   "metadata": {},
   "outputs": [
    {
     "name": "stdout",
     "output_type": "stream",
     "text": [
      "total heat = 301320.00 [J]\n",
      "time to cool = 251.10 [min]\n"
     ]
    }
   ],
   "source": [
    "# general data:\n",
    "number_bottles = 4\n",
    "initial_temperature = 30.0 + 273.15 # [K]\n",
    "final_temperature = 10.0 + 273.15 # [K]\n",
    "temperature_difference = initial_temperature - final_temperature\n",
    "\n",
    "# wine properties:\n",
    "wine = Material(density=980.0, specific_heat= 4350.0, thermal_conductivity=0.6065)\n",
    "water_volume = number_bottles * 0.75 / 1000.0 # [m³]\n",
    "water_mass = water_volume * water_density\n",
    "water_heat = calculate_sensible_heat(water, water_mass, temperature_difference)\n",
    "\n",
    "# glass properties:\n",
    "glass = Material(density=2520.0, specific_heat=840.0, thermal_conductivity=0.8)\n",
    "glass_mass = number_bottles * 0.60 # [kg]\n",
    "glass_heat = calculate_sensible_heat(glass, glass_mass, temperature_difference)\n",
    "    \n",
    "# total heat and power\n",
    "total_heat = water_heat + glass_heat\n",
    "print('total heat = {0:.2f} [J]'.format(total_heat))\n",
    "power = 20.0 # [W]\n",
    "time_cool = total_heat / power / 60.0\n",
    "print('time to cool = {0:.2f} [min]'.format(time_cool))"
   ]
  },
  {
   "cell_type": "code",
   "execution_count": 4,
   "metadata": {},
   "outputs": [
    {
     "name": "stdout",
     "output_type": "stream",
     "text": [
      "0.588\n"
     ]
    }
   ],
   "source": [
    "bottles_mass = numpy.array([1.144, 1.624, 1.180, 1.533, 1.209], dtype=numpy.float64)\n",
    "print(numpy.mean(bottles_mass - 0.750))"
   ]
  },
  {
   "cell_type": "markdown",
   "metadata": {
    "collapsed": true
   },
   "source": [
    "## Thermal insulation\n",
    "\n",
    "The thermal insulation "
   ]
  },
  {
   "cell_type": "code",
   "execution_count": null,
   "metadata": {
    "collapsed": true
   },
   "outputs": [],
   "source": []
  }
 ],
 "metadata": {
  "kernelspec": {
   "display_name": "Python [default]",
   "language": "python",
   "name": "python3"
  },
  "language_info": {
   "codemirror_mode": {
    "name": "ipython",
    "version": 3
   },
   "file_extension": ".py",
   "mimetype": "text/x-python",
   "name": "python",
   "nbconvert_exporter": "python",
   "pygments_lexer": "ipython3",
   "version": "3.6.1"
  }
 },
 "nbformat": 4,
 "nbformat_minor": 2
}
